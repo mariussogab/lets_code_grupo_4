{
  "nbformat": 4,
  "nbformat_minor": 0,
  "metadata": {
    "colab": {
      "provenance": []
    },
    "kernelspec": {
      "name": "python3",
      "display_name": "Python 3"
    },
    "language_info": {
      "name": "python"
    }
  },
  "cells": [
    {
      "cell_type": "markdown",
      "source": [
        "### Atividade"
      ],
      "metadata": {
        "id": "Mm0jn3h2wyiq"
      }
    },
    {
      "cell_type": "markdown",
      "source": [
        "Instruções\n",
        "- Resolver as questões abaixo. Subir o notebook em um repositório público no GitHub e enviar no [Formulário](https://docs.google.com/forms/d/e/1FAIpQLSf8IUCLt4kowhHhB3SRQofE2I8NuXuDadBYjRHqUxgb3yWOaQ/viewform)\n",
        "- Para resolver as questões abaixo utilizar o dataset do seaborn: 'mpg'\n",
        "- Para os gráficos finais de cada questão, eles devem possuir título, rótulo dos eixos definidos e legenda (quando necessário)."
      ],
      "metadata": {
        "id": "t5dFD1NQxhyc"
      }
    },
    {
      "cell_type": "code",
      "source": [
        "import pandas as pd\n",
        "import seaborn as sns\n",
        "import matplotlib.pyplot as plt"
      ],
      "metadata": {
        "id": "2eatAzKQswGX"
      },
      "execution_count": 1,
      "outputs": []
    },
    {
      "cell_type": "code",
      "source": [
        "# Importa dataset\n",
        "mpg = sns.load_dataset('mpg')"
      ],
      "metadata": {
        "id": "WLwDpewOtHR3"
      },
      "execution_count": 2,
      "outputs": []
    },
    {
      "cell_type": "code",
      "source": [
        "# Verifica informações gerais do dataset\n",
        "mpg.info()"
      ],
      "metadata": {
        "id": "ZVZcFhp9YpUS",
        "colab": {
          "base_uri": "https://localhost:8080/"
        },
        "outputId": "2b3ccce0-305a-453e-8983-c26ed142fc1e"
      },
      "execution_count": 3,
      "outputs": [
        {
          "output_type": "stream",
          "name": "stdout",
          "text": [
            "<class 'pandas.core.frame.DataFrame'>\n",
            "RangeIndex: 398 entries, 0 to 397\n",
            "Data columns (total 9 columns):\n",
            " #   Column        Non-Null Count  Dtype  \n",
            "---  ------        --------------  -----  \n",
            " 0   mpg           398 non-null    float64\n",
            " 1   cylinders     398 non-null    int64  \n",
            " 2   displacement  398 non-null    float64\n",
            " 3   horsepower    392 non-null    float64\n",
            " 4   weight        398 non-null    int64  \n",
            " 5   acceleration  398 non-null    float64\n",
            " 6   model_year    398 non-null    int64  \n",
            " 7   origin        398 non-null    object \n",
            " 8   name          398 non-null    object \n",
            "dtypes: float64(4), int64(3), object(2)\n",
            "memory usage: 28.1+ KB\n"
          ]
        }
      ]
    },
    {
      "cell_type": "markdown",
      "source": [
        "#### Questão 1"
      ],
      "metadata": {
        "id": "xHZnoZLJyw68"
      }
    },
    {
      "cell_type": "markdown",
      "source": [
        "Verificar se a base de dados possui valores nulos. Para as linhas com valores nulos, deletar as mesmas. Ao final da questão verificar se a base de dados ficou com 392 registros e 9 colunas."
      ],
      "metadata": {
        "id": "QA6tvZbXtYvw"
      }
    },
    {
      "cell_type": "code",
      "source": [
        "# Verifica a quantidade de valores nulos\n",
        "mpg.isnull().sum()"
      ],
      "metadata": {
        "id": "ZA701s58tJjO",
        "colab": {
          "base_uri": "https://localhost:8080/"
        },
        "outputId": "7be52d22-b2e1-4137-fd03-8fa80336cfee"
      },
      "execution_count": 4,
      "outputs": [
        {
          "output_type": "execute_result",
          "data": {
            "text/plain": [
              "mpg             0\n",
              "cylinders       0\n",
              "displacement    0\n",
              "horsepower      6\n",
              "weight          0\n",
              "acceleration    0\n",
              "model_year      0\n",
              "origin          0\n",
              "name            0\n",
              "dtype: int64"
            ]
          },
          "metadata": {},
          "execution_count": 4
        }
      ]
    },
    {
      "cell_type": "code",
      "source": [
        "# Deleta as linhas de valores nulos\n",
        "mpg = mpg.dropna()"
      ],
      "metadata": {
        "id": "rhew6x5xxSni"
      },
      "execution_count": 5,
      "outputs": []
    },
    {
      "cell_type": "code",
      "source": [
        "# Verifica que o número de linhas é 392\n",
        "mpg.info()"
      ],
      "metadata": {
        "id": "x9bOvWm2tVSq",
        "colab": {
          "base_uri": "https://localhost:8080/"
        },
        "outputId": "fd7dd745-0c68-457c-c95b-a94cfff7c53e"
      },
      "execution_count": 6,
      "outputs": [
        {
          "output_type": "stream",
          "name": "stdout",
          "text": [
            "<class 'pandas.core.frame.DataFrame'>\n",
            "Int64Index: 392 entries, 0 to 397\n",
            "Data columns (total 9 columns):\n",
            " #   Column        Non-Null Count  Dtype  \n",
            "---  ------        --------------  -----  \n",
            " 0   mpg           392 non-null    float64\n",
            " 1   cylinders     392 non-null    int64  \n",
            " 2   displacement  392 non-null    float64\n",
            " 3   horsepower    392 non-null    float64\n",
            " 4   weight        392 non-null    int64  \n",
            " 5   acceleration  392 non-null    float64\n",
            " 6   model_year    392 non-null    int64  \n",
            " 7   origin        392 non-null    object \n",
            " 8   name          392 non-null    object \n",
            "dtypes: float64(4), int64(3), object(2)\n",
            "memory usage: 30.6+ KB\n"
          ]
        }
      ]
    },
    {
      "cell_type": "markdown",
      "source": [
        "#### Questão 2"
      ],
      "metadata": {
        "id": "qHF6jaTSy1qg"
      }
    },
    {
      "cell_type": "markdown",
      "source": [
        "Qual a quantidade de carros por origem (*origin*)? Responda utilizando um gráfico de barras e inclua os rótulos dos dados."
      ],
      "metadata": {
        "id": "BM2iKIK-uAx-"
      }
    },
    {
      "cell_type": "code",
      "source": [
        "# Calcula quantos valores únicos existem na coluna origin\n",
        "mpg['origin'].unique()"
      ],
      "metadata": {
        "id": "ATO8JBqPLUV0",
        "colab": {
          "base_uri": "https://localhost:8080/"
        },
        "outputId": "6b6a4f4a-0dc1-4b08-b3aa-b6a5e9244021"
      },
      "execution_count": 7,
      "outputs": [
        {
          "output_type": "execute_result",
          "data": {
            "text/plain": [
              "array(['usa', 'japan', 'europe'], dtype=object)"
            ]
          },
          "metadata": {},
          "execution_count": 7
        }
      ]
    },
    {
      "cell_type": "code",
      "source": [
        "# Define o eixo x como os nomes dos países e o eixo y como a quantidade de carros por país\n",
        "x_bar = mpg['origin'].value_counts().index\n",
        "y_bar = mpg['origin'].value_counts().values\n",
        "print(x_bar)\n",
        "print(y_bar)"
      ],
      "metadata": {
        "id": "dlDCLDhLcy0X",
        "colab": {
          "base_uri": "https://localhost:8080/"
        },
        "outputId": "90121a56-3f0c-40ff-9596-549dca4f0dca"
      },
      "execution_count": 8,
      "outputs": [
        {
          "output_type": "stream",
          "name": "stdout",
          "text": [
            "Index(['usa', 'japan', 'europe'], dtype='object')\n",
            "[245  79  68]\n"
          ]
        }
      ]
    },
    {
      "cell_type": "code",
      "source": [
        "# Plota o gráfico de barras da quantidade de carros por país de origem\n",
        "fig = plt.figure(figsize=(10,4))\n",
        "plt.bar(x_bar, y_bar, color='blue')\n",
        "plt.title('Quantidade de carros por país de origem', fontsize=16)\n",
        "plt.xlabel('País de origem', fontsize=12)\n",
        "plt.ylabel('Quantidade', fontsize=12)\n",
        "plt.xticks(fontsize=11)\n",
        "plt.yticks(fontsize=11)\n",
        "plt.show()"
      ],
      "metadata": {
        "id": "mQzAgwxDupqd",
        "colab": {
          "base_uri": "https://localhost:8080/",
          "height": 301
        },
        "outputId": "b070f439-82b9-4152-fe1f-53474a46effa"
      },
      "execution_count": 9,
      "outputs": [
        {
          "output_type": "display_data",
          "data": {
            "text/plain": [
              "<Figure size 720x288 with 1 Axes>"
            ],
            "image/png": "[encoded data removed]"
          },
          "metadata": {
            "needs_background": "light"
          }
        }
      ]
    },
    {
      "cell_type": "markdown",
      "source": [
        "#### Questão 3"
      ],
      "metadata": {
        "id": "_CsMciDSy6Aa"
      }
    },
    {
      "cell_type": "markdown",
      "source": [
        "Qual a média da potência (*horsepower*) dos carros por origem?"
      ],
      "metadata": {
        "id": "W6YZiNejuSwE"
      }
    },
    {
      "cell_type": "code",
      "source": [
        "mpg.head()"
      ],
      "metadata": {
        "id": "zWzQ7c7Qy6-0"
      },
      "execution_count": null,
      "outputs": []
    },
    {
      "cell_type": "code",
      "source": [
        "mpg.groupby('origin')['horsepower'].mean()\n",
        "\n",
        "\n"
      ],
      "metadata": {
        "id": "Z7it2yIovjc8"
      },
      "execution_count": null,
      "outputs": []
    },
    {
      "cell_type": "code",
      "source": [
        "x = mpg.groupby('origin')['horsepower'].mean().reset_index()['origin']\n",
        "y = mpg.groupby('origin')['horsepower'].mean().reset_index()['horsepower']\n",
        "plt.bar(x,y)\n",
        "plt.show()"
      ],
      "metadata": {
        "colab": {
          "base_uri": "https://localhost:8080/",
          "height": 265
        },
        "id": "AbnSpcBClonp",
        "outputId": "f5c71673-160c-4d19-aef9-eda8ab7a7ef8"
      },
      "execution_count": 19,
      "outputs": [
        {
          "output_type": "display_data",
          "data": {
            "text/plain": [
              "<Figure size 432x288 with 1 Axes>"
            ],
            "image/png": "[encoded data removed]"
          },
          "metadata": {
            "needs_background": "light"
          }
        }
      ]
    },
    {
      "cell_type": "markdown",
      "source": [
        "#### Questão 4"
      ],
      "metadata": {
        "id": "6VrR1rqTy7WN"
      }
    },
    {
      "cell_type": "markdown",
      "source": [
        "Qual a correlacão da potência (*horsepower*) com a aceleração (*acceleration*) cos carros?"
      ],
      "metadata": {
        "id": "KzsEshzevysX"
      }
    },
    {
      "cell_type": "code",
      "source": [
        "plt.xlabel('Acceleration', fontsize=12)\n",
        "plt.ylabel('Horsepower', fontsize=12)\n",
        "plt.scatter(data=mpg, x='acceleration', y='horsepower')\n",
        "plt.show()"
      ],
      "metadata": {
        "id": "EpDgVD2swQpL",
        "colab": {
          "base_uri": "https://localhost:8080/",
          "height": 282
        },
        "outputId": "82ef3ff8-3461-4969-e32c-f2301613d583"
      },
      "execution_count": 28,
      "outputs": [
        {
          "output_type": "display_data",
          "data": {
            "text/plain": [
              "<Figure size 432x288 with 1 Axes>"
            ],
            "image/png": "[encoded data removed]"
          },
          "metadata": {
            "needs_background": "light"
          }
        }
      ]
    },
    {
      "cell_type": "markdown",
      "source": [
        "#### Questão 5"
      ],
      "metadata": {
        "id": "iIepmt9TOVfQ"
      }
    },
    {
      "cell_type": "markdown",
      "source": [
        "Qual a correlacão da potência (*horsepower*) com a aceleração (*acceleration*) dos carros, segmentando de acordo com a origem (*origin*) com cores diferentes e plotando no mesmo eixo (*axes*)?"
      ],
      "metadata": {
        "id": "oHx89HAlx3kw"
      }
    },
    {
      "cell_type": "code",
      "source": [
        "plt.scatter(data=mpg[mpg['origin']=='usa'], x='acceleration', y='horsepower', c='red', label='Usa')\n",
        "plt.scatter(data=mpg[mpg['origin']=='japan'], x='acceleration', y='horsepower', c='blue', label='Japan')\n",
        "plt.scatter(data=mpg[mpg['origin']=='europe'], x='acceleration', y='horsepower', c='black', label='Europe')\n",
        "\n",
        "plt.legend()\n",
        "plt.show()"
      ],
      "metadata": {
        "id": "uf6M_1U7OeQZ",
        "colab": {
          "base_uri": "https://localhost:8080/",
          "height": 265
        },
        "outputId": "57fb6a25-9c12-443f-b63c-f5b861a7e43b"
      },
      "execution_count": 30,
      "outputs": [
        {
          "output_type": "display_data",
          "data": {
            "text/plain": [
              "<Figure size 432x288 with 1 Axes>"
            ],
            "image/png": "[encoded data removed]"
          },
          "metadata": {
            "needs_background": "light"
          }
        }
      ]
    },
    {
      "cell_type": "code",
      "source": [],
      "metadata": {
        "id": "2X9SgjL7gHc0"
      },
      "execution_count": 10,
      "outputs": []
    }
  ]
}